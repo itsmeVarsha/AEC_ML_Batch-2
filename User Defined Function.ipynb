{
 "cells": [
  {
   "cell_type": "markdown",
   "id": "5cd27890-bbe2-491b-befc-a135186d089d",
   "metadata": {},
   "source": [
    "### User Defined Functions"
   ]
  },
  {
   "cell_type": "code",
   "execution_count": 2,
   "id": "746e2a83-4933-434e-ace3-eef6d8e225cd",
   "metadata": {},
   "outputs": [
    {
     "name": "stdout",
     "output_type": "stream",
     "text": [
      "Hello Hello Hello \n",
      "Welcome Welcome Welcome Welcome Welcome \n",
      "Hello Hello Hello \n",
      "Welcome Welcome Welcome Welcome Welcome \n"
     ]
    }
   ],
   "source": [
    "def funct1():\n",
    "    print (\"Hello \" * 3)\n",
    "    print (\"Welcome \" * 5)\n",
    "    \n",
    "funct1()\n",
    "funct1()"
   ]
  },
  {
   "cell_type": "code",
   "execution_count": 3,
   "id": "71e50162-c889-4c83-8c56-9223395053b0",
   "metadata": {},
   "outputs": [
    {
     "name": "stdout",
     "output_type": "stream",
     "text": [
      "Good Bye Good Bye Good Bye Good Bye \n",
      "Bye Bye Bye Bye Bye \n"
     ]
    }
   ],
   "source": [
    "def funct2(msg, times):\n",
    "    print (msg * times)\n",
    "    \n",
    "funct2(\"Good Bye \", 4)\n",
    "funct2(\"Bye \", 5)"
   ]
  },
  {
   "cell_type": "code",
   "execution_count": 13,
   "id": "59ff6882-6880-4e68-9bda-de3025f86c89",
   "metadata": {},
   "outputs": [
    {
     "name": "stdout",
     "output_type": "stream",
     "text": [
      "Good Bye Good Bye Good Bye Good Bye Good Bye \n",
      "Welcome Welcome Welcome Welcome Welcome \n",
      "<class 'function'>\n"
     ]
    }
   ],
   "source": [
    "def funct3(msg, times):\n",
    "    return msg * times\n",
    "\n",
    "result = funct3(\"Good Bye \", 5)\n",
    "print (result)\n",
    "print (funct3(\"Welcome \", 5))\n",
    "print (type(funct3))"
   ]
  },
  {
   "cell_type": "code",
   "execution_count": 5,
   "id": "4063b35a-67ec-4774-9bb2-bc186d4baa54",
   "metadata": {},
   "outputs": [
    {
     "name": "stdout",
     "output_type": "stream",
     "text": [
      "Help on built-in function print in module builtins:\n",
      "\n",
      "print(...)\n",
      "    print(value, ..., sep=' ', end='\\n', file=sys.stdout, flush=False)\n",
      "    \n",
      "    Prints the values to a stream, or to sys.stdout by default.\n",
      "    Optional keyword arguments:\n",
      "    file:  a file-like object (stream); defaults to the current sys.stdout.\n",
      "    sep:   string inserted between values, default a space.\n",
      "    end:   string appended after the last value, default a newline.\n",
      "    flush: whether to forcibly flush the stream.\n",
      "\n"
     ]
    }
   ],
   "source": [
    "help(print)"
   ]
  },
  {
   "cell_type": "code",
   "execution_count": 12,
   "id": "fb6a1fa8-ec96-402b-abdd-753eab83a5b8",
   "metadata": {},
   "outputs": [
    {
     "name": "stdout",
     "output_type": "stream",
     "text": [
      "Good , morning.......Welcome\n"
     ]
    }
   ],
   "source": [
    "print (\"Good\", \"morning\", sep = \" , \", end = \".......\")\n",
    "print (\"Welcome\")"
   ]
  },
  {
   "cell_type": "code",
   "execution_count": 22,
   "id": "8726229c-e983-4a42-913f-b70e54d3d83c",
   "metadata": {},
   "outputs": [
    {
     "name": "stdout",
     "output_type": "stream",
     "text": [
      "par1 = 100, par2 = 200 and par3 = 300\n",
      "par1 = 100, par2 = 200 and par3 = 333\n",
      "par1 = 100, par2 = 222 and par3 = 333\n",
      "par1 = 111, par2 = 222 and par3 = 333\n",
      "par1 = 100, par2 = 222 and par3 = 300\n"
     ]
    }
   ],
   "source": [
    "# functions with default arguments\n",
    "def funct4(par1 = 111, par2 = 222, par3 = 333):   # positional parameters\n",
    "    print (f\"par1 = {par1}, par2 = {par2} and par3 = {par3}\")\n",
    "\n",
    "funct4(100, 200, 300)   # positional arguments\n",
    "funct4(100, 200)\n",
    "funct4(100)\n",
    "funct4()\n",
    "funct4(par3 = 300, par1 = 100)"
   ]
  },
  {
   "cell_type": "code",
   "execution_count": null,
   "id": "10ce1ded-8bd5-4c33-aab3-4dedd809a7b1",
   "metadata": {},
   "outputs": [],
   "source": []
  },
  {
   "cell_type": "code",
   "execution_count": null,
   "id": "6dbce522-7cee-4512-beb4-2b28f321c5d9",
   "metadata": {},
   "outputs": [],
   "source": []
  },
  {
   "cell_type": "code",
   "execution_count": null,
   "id": "ca3b03f1-51a9-45e8-90a5-e6bb17ad21a5",
   "metadata": {},
   "outputs": [],
   "source": []
  }
 ],
 "metadata": {
  "kernelspec": {
   "display_name": "Python 3",
   "language": "python",
   "name": "python3"
  },
  "language_info": {
   "codemirror_mode": {
    "name": "ipython",
    "version": 3
   },
   "file_extension": ".py",
   "mimetype": "text/x-python",
   "name": "python",
   "nbconvert_exporter": "python",
   "pygments_lexer": "ipython3",
   "version": "3.8.8"
  }
 },
 "nbformat": 4,
 "nbformat_minor": 5
}
