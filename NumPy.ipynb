{
 "cells": [
  {
   "cell_type": "markdown",
   "id": "87c457ca-6046-4734-a18b-5da4ce91f90f",
   "metadata": {},
   "source": [
    "## Introduction to NumPy"
   ]
  },
  {
   "cell_type": "markdown",
   "id": "2a439363-216a-4efa-81bb-47d49eaafb40",
   "metadata": {},
   "source": [
    "> NumPy (Numeric Python) is an extension to the Python programming language, adding support for large, multi-dimensional (mostly numerical) arrays and matrices, along with a large library of high-level mathematical functions to operate on these arrays."
   ]
  },
  {
   "cell_type": "code",
   "execution_count": 1,
   "id": "6aca786a-53fd-49a7-b746-cbbab3a96853",
   "metadata": {},
   "outputs": [],
   "source": [
    "# importing all required modules\n",
    "import numpy as np"
   ]
  },
  {
   "cell_type": "code",
   "execution_count": 4,
   "id": "23eff2a7-9ca0-4edc-af89-6f42d4148f7d",
   "metadata": {},
   "outputs": [
    {
     "name": "stdout",
     "output_type": "stream",
     "text": [
      "[100, 200, 400, 500, 300] 5 <class 'list'>\n",
      "[100 200 400 500 300] 5 <class 'numpy.ndarray'> int32\n"
     ]
    }
   ],
   "source": [
    "list1 = [100, 200, 400, 500, 300]\n",
    "print (list1, len(list1), type(list1))\n",
    "arr1 = np.array(list1)\n",
    "print (arr1, len(arr1), type(arr1), arr1.dtype)"
   ]
  },
  {
   "cell_type": "code",
   "execution_count": 3,
   "id": "40d00f88-55df-4767-a5bb-f5bfa96e3d5f",
   "metadata": {},
   "outputs": [
    {
     "name": "stdout",
     "output_type": "stream",
     "text": [
      "[100, 200, 400, 500, 300] 5 <class 'list'>\n",
      "[100 200 400 500 300] 5 <class 'numpy.ndarray'>\n"
     ]
    }
   ],
   "source": [
    "tuple1 = [100, 200, 400, 500, 300]\n",
    "print (tuple1, len(tuple1), type(tuple1))\n",
    "arr1 = np.array(tuple1)\n",
    "print (arr1, len(arr1), type(arr1))"
   ]
  },
  {
   "cell_type": "code",
   "execution_count": 6,
   "id": "8f991bbb-e11c-444c-bec9-f0767d8600c5",
   "metadata": {},
   "outputs": [
    {
     "name": "stdout",
     "output_type": "stream",
     "text": [
      "[100, '200', 400, 500, 300] 5 <class 'list'>\n",
      "['100' '200' '400' '500' '300'] 5 <class 'numpy.ndarray'> <U11\n"
     ]
    }
   ],
   "source": [
    "list1 = [100, \"200\", 400, 500, 300]\n",
    "print (list1, len(list1), type(list1))\n",
    "arr1 = np.array(list1)\n",
    "print (arr1, len(arr1), type(arr1), arr1.dtype)"
   ]
  },
  {
   "cell_type": "code",
   "execution_count": 7,
   "id": "c4dceb52-7818-463a-8753-c3178c759ae4",
   "metadata": {},
   "outputs": [
    {
     "name": "stdout",
     "output_type": "stream",
     "text": [
      "[100, 200.5, 400, 500, 300] 5 <class 'list'>\n",
      "[100.  200.5 400.  500.  300. ] 5 <class 'numpy.ndarray'> float64\n"
     ]
    }
   ],
   "source": [
    "list1 = [100, 200.5, 400, 500, 300]\n",
    "print (list1, len(list1), type(list1))\n",
    "arr1 = np.array(list1)\n",
    "print (arr1, len(arr1), type(arr1), arr1.dtype)"
   ]
  },
  {
   "cell_type": "code",
   "execution_count": 8,
   "id": "f0e4d007-e0e1-4a6c-b4ab-f9333345d09d",
   "metadata": {},
   "outputs": [
    {
     "name": "stdout",
     "output_type": "stream",
     "text": [
      "[100, 200, True, 400, 500, False, 300] 7 <class 'list'>\n",
      "[100 200   1 400 500   0 300] 7 <class 'numpy.ndarray'> int32\n"
     ]
    }
   ],
   "source": [
    "list1 = [100, 200, True, 400, 500, False, 300]\n",
    "print (list1, len(list1), type(list1))\n",
    "arr1 = np.array(list1)\n",
    "print (arr1, len(arr1), type(arr1), arr1.dtype)"
   ]
  },
  {
   "cell_type": "code",
   "execution_count": 9,
   "id": "6e17bd72-cf63-4175-82bb-7786f10bf7af",
   "metadata": {},
   "outputs": [
    {
     "name": "stdout",
     "output_type": "stream",
     "text": [
      "[100, '200', 400.5, True, 500, 300, False] 7 <class 'list'>\n",
      "['100' '200' '400.5' 'True' '500' '300' 'False'] 7 <class 'numpy.ndarray'> <U32\n"
     ]
    }
   ],
   "source": [
    "list1 = [100, \"200\", 400.5, True, 500, 300, False]\n",
    "print (list1, len(list1), type(list1))\n",
    "arr1 = np.array(list1)\n",
    "print (arr1, len(arr1), type(arr1), arr1.dtype)"
   ]
  },
  {
   "cell_type": "code",
   "execution_count": 10,
   "id": "3baec91e-6c55-4f23-9b83-0d8c7f1450e9",
   "metadata": {},
   "outputs": [
    {
     "name": "stdout",
     "output_type": "stream",
     "text": [
      "range(0, 10) <class 'range'> 10\n",
      "[0, 1, 2, 3, 4, 5, 6, 7, 8, 9]\n"
     ]
    }
   ],
   "source": [
    "var1 = range(10)\n",
    "print (var1, type(var1), len(var1))\n",
    "print (list(var1))"
   ]
  },
  {
   "cell_type": "code",
   "execution_count": 17,
   "id": "fd853a64-a798-4190-9771-943f7ccdf732",
   "metadata": {},
   "outputs": [
    {
     "name": "stdout",
     "output_type": "stream",
     "text": [
      "[0 1 2 3 4 5 6 7 8 9] 10 <class 'numpy.ndarray'>\n",
      "[2 3 4 5 6 7 8 9] 8 <class 'numpy.ndarray'>\n",
      "[2 4 6 8] 4 <class 'numpy.ndarray'>\n"
     ]
    }
   ],
   "source": [
    "arr1 = np.arange(10)\n",
    "print (arr1, len(arr1), type(arr1))\n",
    "arr1 = np.arange(2, 10)\n",
    "print (arr1, len(arr1), type(arr1))\n",
    "arr1 = np.arange(2, 10, 2)\n",
    "print (arr1, len(arr1), type(arr1))"
   ]
  },
  {
   "cell_type": "code",
   "execution_count": 25,
   "id": "b5c06854-7db1-46e7-9365-745cf6e34835",
   "metadata": {},
   "outputs": [
    {
     "name": "stdout",
     "output_type": "stream",
     "text": [
      "[0. 1. 2. 3. 4. 5. 6. 7. 8. 9.] 10 <class 'numpy.ndarray'>\n",
      "[0. 1. 2. 3. 4. 5. 6. 7. 8. 9.] 10 <class 'numpy.ndarray'>\n",
      "['0' '1' '2' '3' '4' '5' '6' '7' '8' '9'] 10 <class 'numpy.ndarray'>\n"
     ]
    }
   ],
   "source": [
    "arr1 = np.arange(10, dtype='float')\n",
    "print (arr1, len(arr1), type(arr1))\n",
    "arr1 = np.arange(10).astype(float)\n",
    "print (arr1, len(arr1), type(arr1))\n",
    "arr1 = np.arange(10).astype(str)\n",
    "print (arr1, len(arr1), type(arr1))"
   ]
  },
  {
   "cell_type": "code",
   "execution_count": 29,
   "id": "2885ac0a-9221-45a0-bf2a-639f9d0f73b9",
   "metadata": {},
   "outputs": [
    {
     "name": "stdout",
     "output_type": "stream",
     "text": [
      "[0. 1. 2. 3. 4. 5. 6. 7. 8. 9.] 10 <class 'numpy.ndarray'>\n",
      "float64\n",
      "10\n",
      "(10,)\n",
      "10\n",
      "1\n"
     ]
    }
   ],
   "source": [
    "arr1 = np.arange(10, dtype='float')\n",
    "print (arr1, len(arr1), type(arr1))\n",
    "print (arr1.dtype) # data type\n",
    "print (len(arr1))  # first dimension\n",
    "print (arr1.shape) # dimension\n",
    "print (arr1.size)  # data count\n",
    "print (arr1.ndim)  # number of dimension"
   ]
  },
  {
   "cell_type": "code",
   "execution_count": 27,
   "id": "26414276-9477-45ea-a912-cdb170ff555f",
   "metadata": {},
   "outputs": [
    {
     "name": "stdout",
     "output_type": "stream",
     "text": [
      "10 <class 'int'>\n",
      "(10,) <class 'tuple'>\n"
     ]
    }
   ],
   "source": [
    "var1 = (10)\n",
    "print (var1, type(var1))\n",
    "var1 = (10,)   # singleton representation of a tuple\n",
    "print (var1, type(var1))"
   ]
  },
  {
   "cell_type": "code",
   "execution_count": 32,
   "id": "7eab34bd-1631-44ab-9d7e-8dc45f842cf9",
   "metadata": {},
   "outputs": [
    {
     "name": "stdout",
     "output_type": "stream",
     "text": [
      "[[100 200 300 400]\n",
      " [111 222 333 444]] <class 'numpy.ndarray'>\n",
      "2\n",
      "2\n",
      "int32\n",
      "(2, 4)\n",
      "8\n"
     ]
    }
   ],
   "source": [
    "arr2 = np.array([[100, 200, 300, 400], [111, 222, 333, 444]])\n",
    "print (arr2, type(arr2))\n",
    "print (len(arr2))\n",
    "print (arr2.ndim)\n",
    "print (arr2.dtype)\n",
    "print (arr2.shape)\n",
    "print (arr2.size)"
   ]
  },
  {
   "cell_type": "code",
   "execution_count": 42,
   "id": "f80e723b-3edc-4a7f-aa5a-f5ead6760c02",
   "metadata": {},
   "outputs": [
    {
     "name": "stdout",
     "output_type": "stream",
     "text": [
      "[0 1 2 3 4 5 6 7 8 9]\n",
      "[0. 1. 2. 3. 4. 5. 6. 7. 8. 9.]\n",
      "[[0. 1. 2. 3. 4.]\n",
      " [5. 6. 7. 8. 9.]]\n",
      "[[0. 1. 2. 3. 4.]\n",
      " [5. 6. 7. 8. 9.]] (2, 5) 10\n"
     ]
    }
   ],
   "source": [
    "arr2 = np.arange(10)\n",
    "print (arr2)\n",
    "arr2 = np.arange(10).astype(float)\n",
    "print (arr2)\n",
    "arr2 = np.arange(10).astype(float).reshape(2, 5)\n",
    "print (arr2)\n",
    "arr2 = np.arange(10).reshape(2, 5).astype(float)\n",
    "print (arr2, arr2.shape, arr2.size)"
   ]
  },
  {
   "cell_type": "code",
   "execution_count": 45,
   "id": "f853fcc0-64b9-4a50-afbe-cf0e9de3a9c9",
   "metadata": {},
   "outputs": [
    {
     "name": "stdout",
     "output_type": "stream",
     "text": [
      "[0. 0. 0. 0. 0. 0. 0. 0. 0. 0.] <class 'numpy.ndarray'>\n",
      "[0 0 0 0 0 0 0 0 0 0] <class 'numpy.ndarray'>\n",
      "[0 0 0 0 0 0 0 0 0 0] <class 'numpy.ndarray'>\n",
      "[5 5 5 5 5 5 5 5 5 5] <class 'numpy.ndarray'>\n"
     ]
    }
   ],
   "source": [
    "# creation of special arrays\n",
    "arr1 = np.zeros(10)\n",
    "print (arr1, type(arr1))\n",
    "arr1 = np.zeros(10).astype(int)\n",
    "print (arr1, type(arr1))\n",
    "arr1 = np.zeros(10, dtype = int)\n",
    "print (arr1, type(arr1))\n",
    "arr1 = arr1 + 5\n",
    "print (arr1, type(arr1))"
   ]
  },
  {
   "cell_type": "code",
   "execution_count": 46,
   "id": "b4f3e484-ffc1-4519-bb07-4544b685b608",
   "metadata": {},
   "outputs": [
    {
     "name": "stdout",
     "output_type": "stream",
     "text": [
      "[1. 1. 1. 1. 1. 1. 1. 1. 1. 1.] <class 'numpy.ndarray'>\n",
      "[1 1 1 1 1 1 1 1 1 1] <class 'numpy.ndarray'>\n",
      "[1 1 1 1 1 1 1 1 1 1] <class 'numpy.ndarray'>\n",
      "[6 6 6 6 6 6 6 6 6 6] <class 'numpy.ndarray'>\n"
     ]
    }
   ],
   "source": [
    "arr1 = np.ones(10)\n",
    "print (arr1, type(arr1))\n",
    "arr1 = np.ones(10).astype(int)\n",
    "print (arr1, type(arr1))\n",
    "arr1 = np.ones(10, dtype = int)\n",
    "print (arr1, type(arr1))\n",
    "arr1 = arr1 + 5\n",
    "print (arr1, type(arr1))"
   ]
  },
  {
   "cell_type": "code",
   "execution_count": 48,
   "id": "d4f32427-1f42-45b2-9f56-15c86d7ba173",
   "metadata": {},
   "outputs": [
    {
     "name": "stdout",
     "output_type": "stream",
     "text": [
      "[100 200 300 400] <class 'numpy.ndarray'>\n",
      "[11 22 33 44] <class 'numpy.ndarray'>\n",
      "[111 222 333 444]\n",
      "[ 89 178 267 356]\n",
      "[ 1100  4400  9900 17600]\n",
      "[9.09090909 9.09090909 9.09090909 9.09090909]\n",
      "[1 2 3 4]\n"
     ]
    }
   ],
   "source": [
    "arr1 = np.array([100, 200, 300, 400])\n",
    "arr2 = np.array([11, 22, 33, 44])\n",
    "print (arr1, type(arr1))\n",
    "print (arr2, type(arr2))\n",
    "print (arr1 + arr2)\n",
    "print (arr1 - arr2)\n",
    "print (arr1 * arr2)\n",
    "print (arr1 / arr2)\n",
    "print (arr1 % arr2)"
   ]
  },
  {
   "cell_type": "code",
   "execution_count": 50,
   "id": "e15b8e0c-7169-4ff8-85a5-f2286ab7c0d6",
   "metadata": {},
   "outputs": [
    {
     "name": "stdout",
     "output_type": "stream",
     "text": [
      "[[0. 0. 0. 0. 0.]\n",
      " [0. 0. 0. 0. 0.]]\n",
      "[[1. 1. 1. 1. 1.]\n",
      " [1. 1. 1. 1. 1.]]\n"
     ]
    }
   ],
   "source": [
    "print (np.zeros(10).reshape(2, 5))\n",
    "print (np.ones(10).reshape(2, 5))"
   ]
  },
  {
   "cell_type": "code",
   "execution_count": 53,
   "id": "36640058-67a3-4b67-aec0-d7014d47b038",
   "metadata": {},
   "outputs": [
    {
     "name": "stdout",
     "output_type": "stream",
     "text": [
      "[ 0.  1.  2.  3.  4.  5.  6.  7.  8.  9. 10.] <class 'numpy.ndarray'>\n",
      "[0.   0.25 0.5  0.75 1.  ] <class 'numpy.ndarray'>\n",
      "[0.  0.2 0.4 0.6 0.8 1. ] <class 'numpy.ndarray'>\n"
     ]
    }
   ],
   "source": [
    "arr1 = np.linspace(0, 10, 11)\n",
    "print (arr1, type(arr1))\n",
    "arr1 = np.linspace(0, 1, 5)\n",
    "print (arr1, type(arr1))\n",
    "arr1 = np.linspace(0, 1, 6)\n",
    "print (arr1, type(arr1))"
   ]
  },
  {
   "cell_type": "code",
   "execution_count": 61,
   "id": "b68b40b4-dddf-4f1e-891a-f9df19ce5f5a",
   "metadata": {},
   "outputs": [
    {
     "name": "stdout",
     "output_type": "stream",
     "text": [
      "[   1.   10.  100. 1000.]\n",
      "[1.e+00 1.e+01 1.e+02 1.e+03 1.e+04]\n",
      "[1. 2. 4. 8.]\n",
      "[ 1.  2.  4.  8. 16.]\n",
      "[ 1  2  4  8 16]\n",
      "[ 1  2  4  8 16]\n"
     ]
    }
   ],
   "source": [
    "arr1 = np.logspace(0, 3, 4)\n",
    "print (arr1)\n",
    "arr1 = np.logspace(0, 4, 5)\n",
    "print (arr1)\n",
    "arr1 = np.logspace(0, 3, 4, base = 2)\n",
    "print (arr1)\n",
    "arr1 = np.logspace(0, 4, 5, base = 2)\n",
    "print (arr1)\n",
    "arr1 = np.logspace(0, 4, 5, base = 2).astype(int)\n",
    "print (arr1)\n",
    "arr1 = np.logspace(0, 4, 5, base = 2, dtype = int)\n",
    "print (arr1)"
   ]
  },
  {
   "cell_type": "code",
   "execution_count": 62,
   "id": "be87d792-5fe1-4719-9358-a9eab4e9281e",
   "metadata": {},
   "outputs": [
    {
     "name": "stdout",
     "output_type": "stream",
     "text": [
      "Help on function logspace in module numpy:\n",
      "\n",
      "logspace(start, stop, num=50, endpoint=True, base=10.0, dtype=None, axis=0)\n",
      "    Return numbers spaced evenly on a log scale.\n",
      "    \n",
      "    In linear space, the sequence starts at ``base ** start``\n",
      "    (`base` to the power of `start`) and ends with ``base ** stop``\n",
      "    (see `endpoint` below).\n",
      "    \n",
      "    .. versionchanged:: 1.16.0\n",
      "        Non-scalar `start` and `stop` are now supported.\n",
      "    \n",
      "    Parameters\n",
      "    ----------\n",
      "    start : array_like\n",
      "        ``base ** start`` is the starting value of the sequence.\n",
      "    stop : array_like\n",
      "        ``base ** stop`` is the final value of the sequence, unless `endpoint`\n",
      "        is False.  In that case, ``num + 1`` values are spaced over the\n",
      "        interval in log-space, of which all but the last (a sequence of\n",
      "        length `num`) are returned.\n",
      "    num : integer, optional\n",
      "        Number of samples to generate.  Default is 50.\n",
      "    endpoint : boolean, optional\n",
      "        If true, `stop` is the last sample. Otherwise, it is not included.\n",
      "        Default is True.\n",
      "    base : array_like, optional\n",
      "        The base of the log space. The step size between the elements in\n",
      "        ``ln(samples) / ln(base)`` (or ``log_base(samples)``) is uniform.\n",
      "        Default is 10.0.\n",
      "    dtype : dtype\n",
      "        The type of the output array.  If `dtype` is not given, the data type\n",
      "        is inferred from `start` and `stop`. The inferred type will never be\n",
      "        an integer; `float` is chosen even if the arguments would produce an\n",
      "        array of integers.\n",
      "    axis : int, optional\n",
      "        The axis in the result to store the samples.  Relevant only if start\n",
      "        or stop are array-like.  By default (0), the samples will be along a\n",
      "        new axis inserted at the beginning. Use -1 to get an axis at the end.\n",
      "    \n",
      "        .. versionadded:: 1.16.0\n",
      "    \n",
      "    \n",
      "    Returns\n",
      "    -------\n",
      "    samples : ndarray\n",
      "        `num` samples, equally spaced on a log scale.\n",
      "    \n",
      "    See Also\n",
      "    --------\n",
      "    arange : Similar to linspace, with the step size specified instead of the\n",
      "             number of samples. Note that, when used with a float endpoint, the\n",
      "             endpoint may or may not be included.\n",
      "    linspace : Similar to logspace, but with the samples uniformly distributed\n",
      "               in linear space, instead of log space.\n",
      "    geomspace : Similar to logspace, but with endpoints specified directly.\n",
      "    \n",
      "    Notes\n",
      "    -----\n",
      "    Logspace is equivalent to the code\n",
      "    \n",
      "    >>> y = np.linspace(start, stop, num=num, endpoint=endpoint)\n",
      "    ... # doctest: +SKIP\n",
      "    >>> power(base, y).astype(dtype)\n",
      "    ... # doctest: +SKIP\n",
      "    \n",
      "    Examples\n",
      "    --------\n",
      "    >>> np.logspace(2.0, 3.0, num=4)\n",
      "    array([ 100.        ,  215.443469  ,  464.15888336, 1000.        ])\n",
      "    >>> np.logspace(2.0, 3.0, num=4, endpoint=False)\n",
      "    array([100.        ,  177.827941  ,  316.22776602,  562.34132519])\n",
      "    >>> np.logspace(2.0, 3.0, num=4, base=2.0)\n",
      "    array([4.        ,  5.0396842 ,  6.34960421,  8.        ])\n",
      "    \n",
      "    Graphical illustration:\n",
      "    \n",
      "    >>> import matplotlib.pyplot as plt\n",
      "    >>> N = 10\n",
      "    >>> x1 = np.logspace(0.1, 1, N, endpoint=True)\n",
      "    >>> x2 = np.logspace(0.1, 1, N, endpoint=False)\n",
      "    >>> y = np.zeros(N)\n",
      "    >>> plt.plot(x1, y, 'o')\n",
      "    [<matplotlib.lines.Line2D object at 0x...>]\n",
      "    >>> plt.plot(x2, y + 0.5, 'o')\n",
      "    [<matplotlib.lines.Line2D object at 0x...>]\n",
      "    >>> plt.ylim([-0.5, 1])\n",
      "    (-0.5, 1)\n",
      "    >>> plt.show()\n",
      "\n"
     ]
    }
   ],
   "source": [
    "help(np.logspace)"
   ]
  },
  {
   "cell_type": "markdown",
   "id": "b17f3586-5942-4dba-b1f2-56e514e99e83",
   "metadata": {},
   "source": [
    "### Indexing and Slicing"
   ]
  },
  {
   "cell_type": "code",
   "execution_count": 72,
   "id": "0182b1ad-105f-45ea-a186-f1bcfaa9814f",
   "metadata": {},
   "outputs": [
    {
     "name": "stdout",
     "output_type": "stream",
     "text": [
      "[200 300 500 600 400 900 700 800] <class 'numpy.ndarray'> 8\n",
      "400 400 700 700 600 600\n",
      "[600 400 900 700 800] [600 400 900 700 800]\n",
      "[200 300 500 600] [200 300 500 600]\n",
      "[200 500 400 700] [300 600 900 800] [800 700 900 400 600 500 300 200]\n"
     ]
    }
   ],
   "source": [
    "# left to right -> 0    1    2    3    4    5    6    7  \n",
    "arr1 = np.array([200, 300, 500, 600, 400, 900, 700, 800])\n",
    "# left to right ->-8   -7   -6   -5   -4   -3   -2   -1\n",
    "print (arr1, type(arr1), len(arr1))\n",
    "print (arr1[4], arr1[-4], arr1[6], arr1[-2], arr1[3], arr1[-5])  # indexing\n",
    "print (arr1[3:], arr1[-5:])\n",
    "print (arr1[:4], arr1[:-4])\n",
    "print (arr1[::2], arr1[1::2], arr1[::-1])"
   ]
  },
  {
   "cell_type": "code",
   "execution_count": 69,
   "id": "6847dc77-d283-461e-9970-f8984cca7909",
   "metadata": {},
   "outputs": [
    {
     "name": "stdout",
     "output_type": "stream",
     "text": [
      "[300 500 600 400 900] [300 500 600 400 900] [300 500 600 400 900] [300 500 600 400 900]\n"
     ]
    }
   ],
   "source": [
    "# Classwork: Print 300 to 900 in 4 different ways\n",
    "print (arr1[1:6], arr1[-7:-2], arr1[1:-2], arr1[-7:6])"
   ]
  },
  {
   "cell_type": "markdown",
   "id": "849d6c3d-b338-4785-b70f-cee45010db3b",
   "metadata": {},
   "source": [
    "### Views and Copies"
   ]
  },
  {
   "cell_type": "code",
   "execution_count": 76,
   "id": "eacb79b3-61ea-4067-8fda-a223ef067792",
   "metadata": {},
   "outputs": [
    {
     "name": "stdout",
     "output_type": "stream",
     "text": [
      "[ 100  200  300  400  500  600  700  800  900 1000] <class 'numpy.ndarray'> 10\n",
      "[500 600 700 800] <class 'numpy.ndarray'> 4\n",
      "[ 100  200  300  400  999  999  999  999  900 1000] <class 'numpy.ndarray'> 10\n",
      "[999 999 999 999] <class 'numpy.ndarray'> 4\n"
     ]
    }
   ],
   "source": [
    "arr1 = np.array([100, 200, 300, 400, 500, 600, 700, 800, 900, 1000])\n",
    "print (arr1, type(arr1), len(arr1))\n",
    "arr2 = arr1[4:8]\n",
    "print (arr2, type(arr2), len(arr2))\n",
    "arr1[4:8] = 999\n",
    "print (arr1, type(arr1), len(arr1))\n",
    "print (arr2, type(arr2), len(arr2))"
   ]
  },
  {
   "cell_type": "code",
   "execution_count": 77,
   "id": "7d269e18-401c-4c4a-8137-1580904befb4",
   "metadata": {},
   "outputs": [
    {
     "name": "stdout",
     "output_type": "stream",
     "text": [
      "[ 100  200  300  400  500  600  700  800  900 1000] <class 'numpy.ndarray'> 10\n",
      "[500 600 700 800] <class 'numpy.ndarray'> 4\n",
      "[ 100  200  300  400  999  999  999  999  900 1000] <class 'numpy.ndarray'> 10\n",
      "[500 600 700 800] <class 'numpy.ndarray'> 4\n"
     ]
    }
   ],
   "source": [
    "arr1 = np.array([100, 200, 300, 400, 500, 600, 700, 800, 900, 1000])\n",
    "print (arr1, type(arr1), len(arr1))\n",
    "arr2 = arr1[4:8].copy()\n",
    "print (arr2, type(arr2), len(arr2))\n",
    "arr1[4:8] = 999\n",
    "print (arr1, type(arr1), len(arr1))\n",
    "print (arr2, type(arr2), len(arr2))"
   ]
  },
  {
   "cell_type": "code",
   "execution_count": 79,
   "id": "b1622b30-d7b0-4bac-8f47-6c52ce8c5724",
   "metadata": {},
   "outputs": [
    {
     "name": "stdout",
     "output_type": "stream",
     "text": [
      "200 140709502402576\n",
      "200 140709502402576\n",
      "200 140709502402576\n"
     ]
    }
   ],
   "source": [
    "var1 = 200\n",
    "print (var1, id(var1))\n",
    "var2 = var1\n",
    "print (var2, id(var2))\n",
    "var3 = 200\n",
    "print (var3, id(var3))"
   ]
  },
  {
   "cell_type": "code",
   "execution_count": 81,
   "id": "d69147dd-e5c2-4da8-89d7-e02346497b2d",
   "metadata": {},
   "outputs": [
    {
     "name": "stdout",
     "output_type": "stream",
     "text": [
      "257 1192133844656\n",
      "257 1192133844656\n",
      "257 1192133844880\n"
     ]
    }
   ],
   "source": [
    "var1 = 257\n",
    "print (var1, id(var1))\n",
    "var2 = var1\n",
    "print (var2, id(var2))\n",
    "var3 = 257\n",
    "print (var3, id(var3))"
   ]
  },
  {
   "cell_type": "code",
   "execution_count": 83,
   "id": "e1780608-8bab-491d-b860-c6fbf2854ee6",
   "metadata": {},
   "outputs": [
    {
     "name": "stdout",
     "output_type": "stream",
     "text": [
      "-6 1192127605168\n",
      "-6 1192127605168\n",
      "-6 1192127604176\n"
     ]
    }
   ],
   "source": [
    "var1 = -6\n",
    "print (var1, id(var1))\n",
    "var2 = var1\n",
    "print (var2, id(var2))\n",
    "var3 = -6\n",
    "print (var3, id(var3))\n",
    "# so as a conclusion variable with values ranging from -5 to 256 will have same ids."
   ]
  },
  {
   "cell_type": "code",
   "execution_count": null,
   "id": "e00e164b-24ba-427a-8dfa-249603e820c0",
   "metadata": {},
   "outputs": [],
   "source": []
  },
  {
   "cell_type": "code",
   "execution_count": null,
   "id": "59c9257f-e09e-4a04-b431-da8e8efa0aea",
   "metadata": {},
   "outputs": [],
   "source": []
  },
  {
   "cell_type": "code",
   "execution_count": null,
   "id": "4955a97e-dd5e-4170-b33c-05d7332f384b",
   "metadata": {},
   "outputs": [],
   "source": []
  },
  {
   "cell_type": "code",
   "execution_count": null,
   "id": "a8dd39ef-0f49-466f-a461-fbf5cd114bb5",
   "metadata": {},
   "outputs": [],
   "source": []
  },
  {
   "cell_type": "code",
   "execution_count": null,
   "id": "11727b82-6976-4a60-b7f7-a51af6c58c20",
   "metadata": {},
   "outputs": [],
   "source": []
  },
  {
   "cell_type": "code",
   "execution_count": null,
   "id": "075b48dd-b3f7-4654-b3d3-3c441379a33b",
   "metadata": {},
   "outputs": [],
   "source": []
  },
  {
   "cell_type": "code",
   "execution_count": null,
   "id": "b63fdf35-3a65-4800-aac5-a6ce29f17f88",
   "metadata": {},
   "outputs": [],
   "source": []
  },
  {
   "cell_type": "code",
   "execution_count": null,
   "id": "864e1a97-3c49-4558-bed0-ca78d559ee5b",
   "metadata": {},
   "outputs": [],
   "source": []
  },
  {
   "cell_type": "code",
   "execution_count": null,
   "id": "51b7f315-d08f-49d1-a156-68901170074c",
   "metadata": {},
   "outputs": [],
   "source": []
  },
  {
   "cell_type": "code",
   "execution_count": null,
   "id": "ffa73b38-739b-4fe5-ac0c-6ea2d009ca6b",
   "metadata": {},
   "outputs": [],
   "source": []
  },
  {
   "cell_type": "code",
   "execution_count": null,
   "id": "82a7230e-10c6-41b5-b6e8-357c3fcafe05",
   "metadata": {},
   "outputs": [],
   "source": []
  },
  {
   "cell_type": "code",
   "execution_count": null,
   "id": "da127de2-d15b-4d2a-856a-5562f5d9c759",
   "metadata": {},
   "outputs": [],
   "source": []
  },
  {
   "cell_type": "code",
   "execution_count": null,
   "id": "4a588561-7efd-49e7-94a9-e4cf02c1f06f",
   "metadata": {},
   "outputs": [],
   "source": []
  },
  {
   "cell_type": "code",
   "execution_count": null,
   "id": "9cb1aa59-e193-40c8-ba03-ca67375b88fd",
   "metadata": {},
   "outputs": [],
   "source": []
  },
  {
   "cell_type": "code",
   "execution_count": null,
   "id": "fdd6438f-1e1f-40ff-a0f2-32bf0cca6055",
   "metadata": {},
   "outputs": [],
   "source": []
  },
  {
   "cell_type": "code",
   "execution_count": null,
   "id": "dd57bbbd-4a2f-45b4-914a-0872b8d8e1ee",
   "metadata": {},
   "outputs": [],
   "source": []
  },
  {
   "cell_type": "code",
   "execution_count": null,
   "id": "ff5b00ca-6a29-46c3-babe-7dd45f0e7d88",
   "metadata": {},
   "outputs": [],
   "source": []
  },
  {
   "cell_type": "code",
   "execution_count": null,
   "id": "e9d520d1-0be2-431e-b3a8-760a8652f3f5",
   "metadata": {},
   "outputs": [],
   "source": []
  },
  {
   "cell_type": "code",
   "execution_count": null,
   "id": "c5129b9e-9344-4db6-a877-93f81f1d253e",
   "metadata": {},
   "outputs": [],
   "source": []
  },
  {
   "cell_type": "code",
   "execution_count": null,
   "id": "8de1d890-03cf-4eeb-8b97-4eab7311f38c",
   "metadata": {},
   "outputs": [],
   "source": []
  },
  {
   "cell_type": "code",
   "execution_count": null,
   "id": "499e193b-7c52-44c6-89cc-14475f64c091",
   "metadata": {},
   "outputs": [],
   "source": []
  },
  {
   "cell_type": "code",
   "execution_count": null,
   "id": "b626f5bc-79aa-4bdc-8d81-fd9af054d578",
   "metadata": {},
   "outputs": [],
   "source": []
  },
  {
   "cell_type": "code",
   "execution_count": null,
   "id": "678c1d38-01e1-479c-92e2-48e2bb9689e0",
   "metadata": {},
   "outputs": [],
   "source": []
  },
  {
   "cell_type": "code",
   "execution_count": null,
   "id": "002e4fbb-26f1-4491-9722-f8c6bf398e5e",
   "metadata": {},
   "outputs": [],
   "source": []
  },
  {
   "cell_type": "code",
   "execution_count": null,
   "id": "6043eef8-3709-4ff3-a09f-435054c3859a",
   "metadata": {},
   "outputs": [],
   "source": []
  },
  {
   "cell_type": "code",
   "execution_count": null,
   "id": "aec92bc0-721a-4046-8af6-6fc56b1eaadd",
   "metadata": {},
   "outputs": [],
   "source": []
  },
  {
   "cell_type": "code",
   "execution_count": null,
   "id": "63394c67-9d40-431f-9833-6c33d945daee",
   "metadata": {},
   "outputs": [],
   "source": []
  },
  {
   "cell_type": "code",
   "execution_count": null,
   "id": "b2150afa-c66c-4b41-93e0-b6eb0837c3c0",
   "metadata": {},
   "outputs": [],
   "source": []
  }
 ],
 "metadata": {
  "kernelspec": {
   "display_name": "Python 3",
   "language": "python",
   "name": "python3"
  },
  "language_info": {
   "codemirror_mode": {
    "name": "ipython",
    "version": 3
   },
   "file_extension": ".py",
   "mimetype": "text/x-python",
   "name": "python",
   "nbconvert_exporter": "python",
   "pygments_lexer": "ipython3",
   "version": "3.8.8"
  }
 },
 "nbformat": 4,
 "nbformat_minor": 5
}
