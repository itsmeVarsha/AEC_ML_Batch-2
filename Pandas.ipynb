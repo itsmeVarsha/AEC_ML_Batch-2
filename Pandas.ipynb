{
 "cells": [
  {
   "cell_type": "markdown",
   "id": "b182165d-db64-4205-b97c-16c58172196f",
   "metadata": {},
   "source": [
    "## Introduction to Pandas: Data Manipulation"
   ]
  },
  {
   "cell_type": "markdown",
   "id": "814759aa-bf4d-49af-913e-1f5b0cef17ee",
   "metadata": {},
   "source": [
    "> It is often said that 80% of data analysis is spent on the data cleaning and preparing data. To get a handle on the problem, this section will focus on a small but important aspect of data manipulation and cleaning with Pandas."
   ]
  },
  {
   "cell_type": "markdown",
   "id": "e378e601-4308-425d-989e-5d35aa9b351d",
   "metadata": {},
   "source": [
    "### Data Structures in Pandas"
   ]
  },
  {
   "cell_type": "markdown",
   "id": "5fa5c3d1-8932-47f6-8bc1-0e65e746d26f",
   "metadata": {},
   "source": [
    "**There are two different data Structures are there in Pandas -**\n",
    "* **Series -** It is an one-dimensional labeled array capable of holding any data type data (e.g. integer, list, dictionary, floating point, string, Python objects etc.). The axis are collectively referred to as the index.\n",
    "* **Data Frame -** It is a two-domensional labeled data structure with columns of potentially different types. You can consider a Data Frame as one SQL Table of MS-Excel Spreadsheet."
   ]
  },
  {
   "cell_type": "markdown",
   "id": "0dc7b2e0-230d-4299-934d-0e643be5d56e",
   "metadata": {},
   "source": [
    "### Series Data Structure"
   ]
  },
  {
   "cell_type": "markdown",
   "id": "44fdb108-99fe-4fcb-83fb-25935011dbf8",
   "metadata": {},
   "source": [
    "**pandas.code,series,Series(data, index, dtype, copy)**\n",
    "* **data -** data may take various formats\n",
    "* **index -** it is unique and hashable for easy data access and identification\n",
    "* **dtype -** it is for data type\n",
    "* **copy -** copy data, default is False (only affects Series on ndarray data sources)"
   ]
  },
  {
   "cell_type": "code",
   "execution_count": 1,
   "id": "23b948cf-d76e-4811-81d4-a0a3715dd1c4",
   "metadata": {},
   "outputs": [],
   "source": [
    "# importing required modules\n",
    "import pandas as pd\n",
    "import numpy as np"
   ]
  },
  {
   "cell_type": "code",
   "execution_count": 6,
   "id": "aaaa04d8-d4cf-4bb5-9f85-316f88687197",
   "metadata": {},
   "outputs": [
    {
     "name": "stdout",
     "output_type": "stream",
     "text": [
      "['Amit' 'Kamal' 'Hari' 'Imtiaz'] <class 'numpy.ndarray'>\n",
      "0      Amit\n",
      "1     Kamal\n",
      "2      Hari\n",
      "3    Imtiaz\n",
      "dtype: object\n",
      "<class 'pandas.core.series.Series'>\n",
      "Amit Imtiaz\n"
     ]
    }
   ],
   "source": [
    "# creating a Series from a ndarray\n",
    "my_data = np.array(['Amit', 'Kamal', \"Hari\", \"Imtiaz\"])\n",
    "print (my_data, type(my_data))\n",
    "s = pd.Series(data = my_data)\n",
    "print (s)\n",
    "print (type(s))\n",
    "print (s[0], s[3])"
   ]
  },
  {
   "cell_type": "code",
   "execution_count": 8,
   "id": "936f7727-aefa-496d-8a34-3eff07d31198",
   "metadata": {},
   "outputs": [
    {
     "name": "stdout",
     "output_type": "stream",
     "text": [
      "['Amit' 'Kamal' 'Hari' 'Imtiaz'] <class 'numpy.ndarray'>\n",
      "Kol      Amit\n",
      "Mum     Kamal\n",
      "Che      Hari\n",
      "Del    Imtiaz\n",
      "dtype: object\n",
      "<class 'pandas.core.series.Series'>\n",
      "Kamal Imtiaz\n",
      "Amit Imtiaz\n"
     ]
    }
   ],
   "source": [
    "# creating a Series from a ndarray\n",
    "my_data = np.array(['Amit', 'Kamal', \"Hari\", \"Imtiaz\"])\n",
    "print (my_data, type(my_data))\n",
    "s = pd.Series(data = my_data, index = ['Kol', 'Mum', 'Che', 'Del'])\n",
    "print (s)\n",
    "print (type(s))\n",
    "print (s['Mum'], s['Del'])\n",
    "print (s[0], s[3])"
   ]
  },
  {
   "cell_type": "code",
   "execution_count": 9,
   "id": "caab327d-055b-4038-8abe-7aa7662ce623",
   "metadata": {},
   "outputs": [
    {
     "name": "stdout",
     "output_type": "stream",
     "text": [
      "['Amit' 'Kamal' 'Hari' 'Imtiaz'] <class 'numpy.ndarray'>\n",
      "Kol      Amit\n",
      "Mum     Kamal\n",
      "Che      Hari\n",
      "Del    Imtiaz\n",
      "dtype: object\n",
      "<class 'pandas.core.series.Series'>\n",
      "Kamal Imtiaz\n",
      "Amit Imtiaz\n"
     ]
    }
   ],
   "source": [
    "# creating a Series from a ndarray\n",
    "my_data = np.array(['Amit', 'Kamal', \"Hari\", \"Imtiaz\"])\n",
    "print (my_data, type(my_data))\n",
    "s = pd.Series(my_data, index = ['Kol', 'Mum', 'Che', 'Del'])\n",
    "print (s)\n",
    "print (type(s))\n",
    "print (s['Mum'], s['Del'])\n",
    "print (s[0], s[3])"
   ]
  },
  {
   "cell_type": "code",
   "execution_count": 15,
   "id": "2abbd98a-27a1-4410-8648-38aed457a974",
   "metadata": {},
   "outputs": [
    {
     "name": "stdout",
     "output_type": "stream",
     "text": [
      "['Amit' 'Kamal' 'Hari' 'Imtiaz' 'Prasenjit'] <class 'numpy.ndarray'>\n",
      "Kol         Amit\n",
      "Mum        Kamal\n",
      "Kol         Hari\n",
      "Mum       Imtiaz\n",
      "Del    Prasenjit\n",
      "dtype: object\n",
      "<class 'pandas.core.series.Series'>\n",
      "Mum     Kamal\n",
      "Mum    Imtiaz\n",
      "dtype: object\n",
      "Kol    Amit\n",
      "Kol    Hari\n",
      "dtype: object <class 'pandas.core.series.Series'>\n",
      "Prasenjit <class 'str'>\n"
     ]
    }
   ],
   "source": [
    "# creating a Series from a ndarray\n",
    "my_data = np.array(['Amit', 'Kamal', \"Hari\", \"Imtiaz\", \"Prasenjit\"])\n",
    "print (my_data, type(my_data))\n",
    "s = pd.Series(data = my_data, index = ['Kol', 'Mum', 'Kol', 'Mum', 'Del'])\n",
    "print (s)\n",
    "print (type(s))\n",
    "print (s['Mum'])\n",
    "print (s['Kol'], type(s['Kol']))\n",
    "print (s['Del'], type(s['Del']))\n",
    "# print (s[0], s[3])"
   ]
  },
  {
   "cell_type": "code",
   "execution_count": 18,
   "id": "607777a9-d23d-4352-80e4-88bae9204b97",
   "metadata": {},
   "outputs": [
    {
     "name": "stdout",
     "output_type": "stream",
     "text": [
      "['Amit' 'Kamal' 'Hari' 'Imtiaz' 'Prasenjit'] <class 'numpy.ndarray'>\n",
      "101         Amit\n",
      "102        Kamal\n",
      "103         Hari\n",
      "104       Imtiaz\n",
      "105    Prasenjit\n",
      "dtype: object\n",
      "<class 'pandas.core.series.Series'>\n",
      "Amit\n",
      "Hari\n"
     ]
    }
   ],
   "source": [
    "# creating a Series from a ndarray\n",
    "my_data = np.array(['Amit', 'Kamal', \"Hari\", \"Imtiaz\", \"Prasenjit\"])\n",
    "print (my_data, type(my_data))\n",
    "s = pd.Series(data = my_data, index = [101, 102, 103, 104, 105])\n",
    "print (s)\n",
    "print (type(s))\n",
    "print (s[101])\n",
    "print (s[103])"
   ]
  },
  {
   "cell_type": "code",
   "execution_count": 19,
   "id": "51f997eb-4fc1-4286-b56e-0a4ebd70abf2",
   "metadata": {},
   "outputs": [
    {
     "name": "stdout",
     "output_type": "stream",
     "text": [
      "['Amit' 'Kamal' 'Hari' 'Imtiaz' 'Prasenjit'] <class 'numpy.ndarray'>\n",
      "101         Amit\n",
      "102        Kamal\n",
      "103         Hari\n",
      "101       Imtiaz\n",
      "105    Prasenjit\n",
      "dtype: object\n",
      "<class 'pandas.core.series.Series'>\n",
      "101      Amit\n",
      "101    Imtiaz\n",
      "dtype: object\n",
      "Hari\n"
     ]
    }
   ],
   "source": [
    "# creating a Series from a ndarray\n",
    "my_data = np.array(['Amit', 'Kamal', \"Hari\", \"Imtiaz\", \"Prasenjit\"])\n",
    "print (my_data, type(my_data))\n",
    "s = pd.Series(data = my_data, index = [101, 102, 103, 101, 105])\n",
    "print (s)\n",
    "print (type(s))\n",
    "print (s[101])\n",
    "print (s[103])"
   ]
  },
  {
   "cell_type": "code",
   "execution_count": 24,
   "id": "88367f0e-3844-43a4-8c28-4f30a1e67065",
   "metadata": {},
   "outputs": [
    {
     "name": "stdout",
     "output_type": "stream",
     "text": [
      "[100 200 300 400 500] <class 'numpy.ndarray'>\n",
      "0    100\n",
      "1    200\n",
      "2    300\n",
      "3    400\n",
      "4    500\n",
      "dtype: int32\n",
      "<class 'pandas.core.series.Series'>\n",
      "[111 222 300 400 500]\n",
      "0    111\n",
      "1    222\n",
      "2    300\n",
      "3    400\n",
      "4    500\n",
      "dtype: int32\n"
     ]
    }
   ],
   "source": [
    "arr1 = np.array([100, 200, 300, 400, 500])\n",
    "print (arr1, type(arr1))\n",
    "s = pd.Series(data = arr1, copy = False)\n",
    "print (s)\n",
    "print (type(s))\n",
    "s[0] = 111\n",
    "arr1[1] = 222\n",
    "print (arr1)\n",
    "print (s)"
   ]
  },
  {
   "cell_type": "code",
   "execution_count": 25,
   "id": "02341391-992b-4609-be99-e8cbd3ee34aa",
   "metadata": {},
   "outputs": [
    {
     "name": "stdout",
     "output_type": "stream",
     "text": [
      "[100 200 300 400 500] <class 'numpy.ndarray'>\n",
      "0    100\n",
      "1    200\n",
      "2    300\n",
      "3    400\n",
      "4    500\n",
      "dtype: int32\n",
      "<class 'pandas.core.series.Series'>\n",
      "[100 222 300 400 500]\n",
      "0    111\n",
      "1    200\n",
      "2    300\n",
      "3    400\n",
      "4    500\n",
      "dtype: int32\n"
     ]
    }
   ],
   "source": [
    "arr1 = np.array([100, 200, 300, 400, 500])\n",
    "print (arr1, type(arr1))\n",
    "s = pd.Series(data = arr1, copy = True)\n",
    "print (s)\n",
    "print (type(s))\n",
    "s[0] = 111\n",
    "arr1[1] = 222\n",
    "print (arr1)\n",
    "print (s)"
   ]
  },
  {
   "cell_type": "code",
   "execution_count": null,
   "id": "45c5ef3d-64f9-4b7b-937a-24809993f2a8",
   "metadata": {},
   "outputs": [],
   "source": []
  },
  {
   "cell_type": "code",
   "execution_count": null,
   "id": "684fe0d5-cf01-45a7-ac67-db9bab567bce",
   "metadata": {},
   "outputs": [],
   "source": []
  },
  {
   "cell_type": "code",
   "execution_count": null,
   "id": "20cb781b-19c7-4df6-920f-860d8697fc91",
   "metadata": {},
   "outputs": [],
   "source": []
  },
  {
   "cell_type": "code",
   "execution_count": null,
   "id": "a49e2d8f-7dfc-42c8-8b88-3c38995a3cac",
   "metadata": {},
   "outputs": [],
   "source": []
  },
  {
   "cell_type": "code",
   "execution_count": null,
   "id": "f8d40cd9-fd4d-4b8c-aa80-b2876d7a11f9",
   "metadata": {},
   "outputs": [],
   "source": []
  },
  {
   "cell_type": "code",
   "execution_count": null,
   "id": "b16b8e48-3bb7-4c34-be5d-6e69977750b5",
   "metadata": {},
   "outputs": [],
   "source": []
  },
  {
   "cell_type": "code",
   "execution_count": null,
   "id": "ca82618a-5abf-483c-8da1-72dc1393cf68",
   "metadata": {},
   "outputs": [],
   "source": []
  },
  {
   "cell_type": "code",
   "execution_count": null,
   "id": "34c41317-5421-469a-8f8e-725607b88def",
   "metadata": {},
   "outputs": [],
   "source": []
  },
  {
   "cell_type": "code",
   "execution_count": null,
   "id": "77abc2ea-446c-4dff-b971-2cfc2b04e95b",
   "metadata": {},
   "outputs": [],
   "source": []
  },
  {
   "cell_type": "code",
   "execution_count": null,
   "id": "b283de89-5fd4-47d5-9f18-9e080cccc1b1",
   "metadata": {},
   "outputs": [],
   "source": []
  },
  {
   "cell_type": "code",
   "execution_count": null,
   "id": "539cfd22-5990-4985-af12-2b667c8b7a22",
   "metadata": {},
   "outputs": [],
   "source": []
  },
  {
   "cell_type": "code",
   "execution_count": null,
   "id": "582d595c-790d-4bd7-9593-bf2813f24c4e",
   "metadata": {},
   "outputs": [],
   "source": []
  },
  {
   "cell_type": "code",
   "execution_count": null,
   "id": "c4dc5f65-07dd-4e13-9ac3-297c7d45909a",
   "metadata": {},
   "outputs": [],
   "source": []
  },
  {
   "cell_type": "code",
   "execution_count": null,
   "id": "ba3a6920-31c8-4075-97d4-dc1378d1974c",
   "metadata": {},
   "outputs": [],
   "source": []
  },
  {
   "cell_type": "code",
   "execution_count": null,
   "id": "016049e3-bc92-4854-a177-6e002b2e947a",
   "metadata": {},
   "outputs": [],
   "source": []
  },
  {
   "cell_type": "code",
   "execution_count": null,
   "id": "6cfea6c6-d8d2-4c4a-a02d-c8aa4c5ace18",
   "metadata": {},
   "outputs": [],
   "source": []
  },
  {
   "cell_type": "code",
   "execution_count": null,
   "id": "16e0d8ad-b3e5-4bda-9248-e05206a1003d",
   "metadata": {},
   "outputs": [],
   "source": []
  },
  {
   "cell_type": "code",
   "execution_count": null,
   "id": "59b287ea-d9ae-4128-9aed-f444e5a81644",
   "metadata": {},
   "outputs": [],
   "source": []
  },
  {
   "cell_type": "code",
   "execution_count": null,
   "id": "becbb84d-0b94-44da-a9b3-96a23dd82a37",
   "metadata": {},
   "outputs": [],
   "source": []
  },
  {
   "cell_type": "code",
   "execution_count": null,
   "id": "379b808a-699d-455c-9992-9845bf39a328",
   "metadata": {},
   "outputs": [],
   "source": []
  },
  {
   "cell_type": "code",
   "execution_count": null,
   "id": "7214ce50-1cfe-4805-bcfa-f3396c36d638",
   "metadata": {},
   "outputs": [],
   "source": []
  },
  {
   "cell_type": "code",
   "execution_count": null,
   "id": "99af3549-59fa-4974-a6ae-d8c240f2c497",
   "metadata": {},
   "outputs": [],
   "source": []
  },
  {
   "cell_type": "code",
   "execution_count": null,
   "id": "4e8a4507-114e-435f-83e4-510f53405ddb",
   "metadata": {},
   "outputs": [],
   "source": []
  },
  {
   "cell_type": "code",
   "execution_count": null,
   "id": "fd6f332e-903f-402e-a758-8a8ee384e3d5",
   "metadata": {},
   "outputs": [],
   "source": []
  },
  {
   "cell_type": "code",
   "execution_count": null,
   "id": "3e6d9c21-09b2-4a8d-a2d1-8339244fe639",
   "metadata": {},
   "outputs": [],
   "source": []
  },
  {
   "cell_type": "code",
   "execution_count": null,
   "id": "2d690838-1e2b-48a7-bd18-cb3ab1809c11",
   "metadata": {},
   "outputs": [],
   "source": []
  },
  {
   "cell_type": "code",
   "execution_count": null,
   "id": "6a9a7684-494e-4a11-a76a-d80a92a9eb34",
   "metadata": {},
   "outputs": [],
   "source": []
  },
  {
   "cell_type": "code",
   "execution_count": null,
   "id": "fbb0d808-47e4-445e-8fb7-9799ba407cd9",
   "metadata": {},
   "outputs": [],
   "source": []
  },
  {
   "cell_type": "code",
   "execution_count": null,
   "id": "244e46ca-04d0-476f-a57f-5fe191bfeb63",
   "metadata": {},
   "outputs": [],
   "source": []
  },
  {
   "cell_type": "code",
   "execution_count": null,
   "id": "e0be13d9-fd2e-497e-8f51-2eebc54e3476",
   "metadata": {},
   "outputs": [],
   "source": []
  },
  {
   "cell_type": "code",
   "execution_count": null,
   "id": "c6cdf22c-97e4-417e-8cab-de72ac9b0007",
   "metadata": {},
   "outputs": [],
   "source": []
  },
  {
   "cell_type": "code",
   "execution_count": null,
   "id": "ceeba6be-93ae-455e-86cb-5dae38cf4c7d",
   "metadata": {},
   "outputs": [],
   "source": []
  },
  {
   "cell_type": "code",
   "execution_count": null,
   "id": "6b8b4b09-f3d2-426e-8260-ca732c0b0f15",
   "metadata": {},
   "outputs": [],
   "source": []
  },
  {
   "cell_type": "code",
   "execution_count": null,
   "id": "4b3ca21a-adb5-4c45-b892-23ed25b13cbc",
   "metadata": {},
   "outputs": [],
   "source": []
  },
  {
   "cell_type": "code",
   "execution_count": null,
   "id": "9ce4096c-2433-4c0f-8479-26c82b5e3e94",
   "metadata": {},
   "outputs": [],
   "source": []
  },
  {
   "cell_type": "code",
   "execution_count": null,
   "id": "3a69b8ab-57fc-41f9-af2c-d677513a8e7b",
   "metadata": {},
   "outputs": [],
   "source": []
  },
  {
   "cell_type": "code",
   "execution_count": null,
   "id": "b230057e-8564-46d0-9931-a62c7e25457c",
   "metadata": {},
   "outputs": [],
   "source": []
  },
  {
   "cell_type": "code",
   "execution_count": null,
   "id": "19f7682e-88e9-498a-9e30-37726553fffb",
   "metadata": {},
   "outputs": [],
   "source": []
  },
  {
   "cell_type": "code",
   "execution_count": null,
   "id": "9f27e29b-c39f-4876-9a69-811a1b0ad3ea",
   "metadata": {},
   "outputs": [],
   "source": []
  },
  {
   "cell_type": "code",
   "execution_count": null,
   "id": "504cbe9d-cc69-42a1-ae37-1bac18805251",
   "metadata": {},
   "outputs": [],
   "source": []
  },
  {
   "cell_type": "code",
   "execution_count": null,
   "id": "d1f09c70-26d7-4e0b-835d-a80438032733",
   "metadata": {},
   "outputs": [],
   "source": []
  },
  {
   "cell_type": "code",
   "execution_count": null,
   "id": "4d30ebfa-f89a-4c61-b986-37b8e0d92763",
   "metadata": {},
   "outputs": [],
   "source": []
  },
  {
   "cell_type": "code",
   "execution_count": null,
   "id": "8264c421-7679-4052-95da-3c84e6972685",
   "metadata": {},
   "outputs": [],
   "source": []
  },
  {
   "cell_type": "code",
   "execution_count": null,
   "id": "495e1590-ae6a-4997-be79-a6e5847c79ea",
   "metadata": {},
   "outputs": [],
   "source": []
  },
  {
   "cell_type": "code",
   "execution_count": null,
   "id": "e897c97d-c404-4bfc-9f22-673b7f0307d7",
   "metadata": {},
   "outputs": [],
   "source": []
  },
  {
   "cell_type": "code",
   "execution_count": null,
   "id": "d874c0d8-071b-4a25-8960-a0a320a4188d",
   "metadata": {},
   "outputs": [],
   "source": []
  },
  {
   "cell_type": "code",
   "execution_count": null,
   "id": "4b7eec0e-4667-4dcb-b225-05ff942375c2",
   "metadata": {},
   "outputs": [],
   "source": []
  },
  {
   "cell_type": "code",
   "execution_count": null,
   "id": "12c88427-5fe3-4d24-b579-711156291a9d",
   "metadata": {},
   "outputs": [],
   "source": []
  },
  {
   "cell_type": "code",
   "execution_count": null,
   "id": "b48f9f2f-2b6d-49fa-a4ad-7be99debc937",
   "metadata": {},
   "outputs": [],
   "source": []
  },
  {
   "cell_type": "code",
   "execution_count": null,
   "id": "b96c724e-8361-4c6c-b592-663bcb0b78a7",
   "metadata": {},
   "outputs": [],
   "source": []
  },
  {
   "cell_type": "code",
   "execution_count": null,
   "id": "7054fe4a-84d6-40c8-a0cb-7a50b28343cb",
   "metadata": {},
   "outputs": [],
   "source": []
  },
  {
   "cell_type": "code",
   "execution_count": null,
   "id": "4ec538a0-6e90-43fa-bce0-9ca4ece37cd9",
   "metadata": {},
   "outputs": [],
   "source": []
  },
  {
   "cell_type": "code",
   "execution_count": null,
   "id": "cb82e59f-964c-47d8-8c4e-cff62563b253",
   "metadata": {},
   "outputs": [],
   "source": []
  },
  {
   "cell_type": "code",
   "execution_count": null,
   "id": "0a92e3b9-2eb6-4836-83f8-3c3c66b80196",
   "metadata": {},
   "outputs": [],
   "source": []
  },
  {
   "cell_type": "code",
   "execution_count": null,
   "id": "f4258c90-7968-4494-96cd-9d800bf0daee",
   "metadata": {},
   "outputs": [],
   "source": []
  },
  {
   "cell_type": "code",
   "execution_count": null,
   "id": "3d367a4d-95f3-41bf-a97e-5dd52b2782e5",
   "metadata": {},
   "outputs": [],
   "source": []
  },
  {
   "cell_type": "code",
   "execution_count": null,
   "id": "982d1110-bce5-433a-989b-65e78f6e7266",
   "metadata": {},
   "outputs": [],
   "source": []
  },
  {
   "cell_type": "code",
   "execution_count": null,
   "id": "051c96bf-79b8-4670-ad3d-6164622a7819",
   "metadata": {},
   "outputs": [],
   "source": []
  },
  {
   "cell_type": "code",
   "execution_count": null,
   "id": "3fa5eff7-553a-4bbd-b587-bf6b5c59a3e5",
   "metadata": {},
   "outputs": [],
   "source": []
  },
  {
   "cell_type": "code",
   "execution_count": null,
   "id": "eee591fa-79bf-4f5f-8a09-d568a5cf2c7c",
   "metadata": {},
   "outputs": [],
   "source": []
  },
  {
   "cell_type": "code",
   "execution_count": null,
   "id": "81b59849-c328-4cba-84a8-cf4bf762a243",
   "metadata": {},
   "outputs": [],
   "source": []
  },
  {
   "cell_type": "code",
   "execution_count": null,
   "id": "92746adc-9bcf-419d-aa0e-9c816f9db886",
   "metadata": {},
   "outputs": [],
   "source": []
  },
  {
   "cell_type": "code",
   "execution_count": null,
   "id": "e4af2368-0633-4405-bc5e-135c60bfce40",
   "metadata": {},
   "outputs": [],
   "source": []
  },
  {
   "cell_type": "code",
   "execution_count": null,
   "id": "94e11e9e-45eb-4fd5-9860-c24dd784cd9a",
   "metadata": {},
   "outputs": [],
   "source": []
  },
  {
   "cell_type": "code",
   "execution_count": null,
   "id": "30925e12-d7f4-49e1-9b66-6f44209674cb",
   "metadata": {},
   "outputs": [],
   "source": []
  },
  {
   "cell_type": "code",
   "execution_count": null,
   "id": "1abfe30e-3152-4203-b196-afcadc3d59df",
   "metadata": {},
   "outputs": [],
   "source": []
  },
  {
   "cell_type": "code",
   "execution_count": null,
   "id": "1f9a81b5-f3a2-4b41-b5ef-b72568e80dd8",
   "metadata": {},
   "outputs": [],
   "source": []
  },
  {
   "cell_type": "code",
   "execution_count": null,
   "id": "b1e79e04-90e1-454e-bcbf-41b34c32b156",
   "metadata": {},
   "outputs": [],
   "source": []
  },
  {
   "cell_type": "code",
   "execution_count": null,
   "id": "9092f51f-711d-4c34-9ef7-f38b0eb2dbfd",
   "metadata": {},
   "outputs": [],
   "source": []
  },
  {
   "cell_type": "code",
   "execution_count": null,
   "id": "b9c22fda-c7d4-44b3-b0a6-8e24493b1fd0",
   "metadata": {},
   "outputs": [],
   "source": []
  },
  {
   "cell_type": "code",
   "execution_count": null,
   "id": "65e55ef7-1bed-4552-a89b-0a98df6e555f",
   "metadata": {},
   "outputs": [],
   "source": []
  },
  {
   "cell_type": "code",
   "execution_count": null,
   "id": "b2b96a9e-0c1d-487b-abd1-b69e932641b7",
   "metadata": {},
   "outputs": [],
   "source": []
  },
  {
   "cell_type": "code",
   "execution_count": null,
   "id": "ce5a2b61-99c9-4399-9eb7-b2c0469d7bb9",
   "metadata": {},
   "outputs": [],
   "source": []
  },
  {
   "cell_type": "code",
   "execution_count": null,
   "id": "8892e456-1a14-4ff1-b2ef-71ad8c3300ec",
   "metadata": {},
   "outputs": [],
   "source": []
  },
  {
   "cell_type": "code",
   "execution_count": null,
   "id": "ee18e0c6-d467-4a68-b205-d02c6ffe86e0",
   "metadata": {},
   "outputs": [],
   "source": []
  },
  {
   "cell_type": "code",
   "execution_count": null,
   "id": "9c9f9190-cc88-4235-80f6-de7105f0431d",
   "metadata": {},
   "outputs": [],
   "source": []
  },
  {
   "cell_type": "code",
   "execution_count": null,
   "id": "7a881ef4-5eeb-48cd-b08e-d17cf7d8a2ed",
   "metadata": {},
   "outputs": [],
   "source": []
  },
  {
   "cell_type": "code",
   "execution_count": null,
   "id": "e60174e7-4392-4cd1-8a3a-840a4d466949",
   "metadata": {},
   "outputs": [],
   "source": []
  },
  {
   "cell_type": "code",
   "execution_count": null,
   "id": "eb294f52-81e1-452f-8114-f722b371866d",
   "metadata": {},
   "outputs": [],
   "source": []
  },
  {
   "cell_type": "code",
   "execution_count": null,
   "id": "41da0ac0-4877-445a-8a69-4cb1633f5b0e",
   "metadata": {},
   "outputs": [],
   "source": []
  },
  {
   "cell_type": "code",
   "execution_count": null,
   "id": "b1946a3f-c2d1-412b-80f7-52ee2032779a",
   "metadata": {},
   "outputs": [],
   "source": []
  },
  {
   "cell_type": "code",
   "execution_count": null,
   "id": "262072f8-6087-4d3d-aafc-a398ba211f20",
   "metadata": {},
   "outputs": [],
   "source": []
  },
  {
   "cell_type": "code",
   "execution_count": null,
   "id": "728f1deb-4e8e-46bc-88f7-9697965a0eee",
   "metadata": {},
   "outputs": [],
   "source": []
  },
  {
   "cell_type": "code",
   "execution_count": null,
   "id": "c775062d-7835-4171-a74b-07c7a26a229b",
   "metadata": {},
   "outputs": [],
   "source": []
  },
  {
   "cell_type": "code",
   "execution_count": null,
   "id": "1772f3e3-dd08-4565-ac63-8812eee27753",
   "metadata": {},
   "outputs": [],
   "source": []
  },
  {
   "cell_type": "code",
   "execution_count": null,
   "id": "4faf5057-e438-423f-821f-9358bb703143",
   "metadata": {},
   "outputs": [],
   "source": []
  },
  {
   "cell_type": "code",
   "execution_count": null,
   "id": "296a9056-bcb2-44a5-a2b7-c328eb8b2e6c",
   "metadata": {},
   "outputs": [],
   "source": []
  },
  {
   "cell_type": "code",
   "execution_count": null,
   "id": "9bf3bfa2-be84-44a5-a6b5-90a1b4b88879",
   "metadata": {},
   "outputs": [],
   "source": []
  },
  {
   "cell_type": "code",
   "execution_count": null,
   "id": "37dcf267-7701-4e8b-9aee-d1e9a1ff140a",
   "metadata": {},
   "outputs": [],
   "source": []
  },
  {
   "cell_type": "code",
   "execution_count": null,
   "id": "55cb365a-4caa-4452-b0dd-b90894d8f695",
   "metadata": {},
   "outputs": [],
   "source": []
  },
  {
   "cell_type": "code",
   "execution_count": null,
   "id": "c2afff14-b4ca-4f36-97c5-b6bcb37fab48",
   "metadata": {},
   "outputs": [],
   "source": []
  },
  {
   "cell_type": "code",
   "execution_count": null,
   "id": "72ec68e3-27ed-46a0-a405-133842d47864",
   "metadata": {},
   "outputs": [],
   "source": []
  },
  {
   "cell_type": "code",
   "execution_count": null,
   "id": "71303a13-7221-49aa-836f-64cf2dc3a085",
   "metadata": {},
   "outputs": [],
   "source": []
  },
  {
   "cell_type": "code",
   "execution_count": null,
   "id": "e2d096a3-23b4-4d7b-8e23-0df0f97690fe",
   "metadata": {},
   "outputs": [],
   "source": []
  },
  {
   "cell_type": "code",
   "execution_count": null,
   "id": "0d4e1527-3815-45d3-b6d4-07374b67d6ea",
   "metadata": {},
   "outputs": [],
   "source": []
  },
  {
   "cell_type": "code",
   "execution_count": null,
   "id": "26a8d7b4-4c20-439e-afd4-7f49a7480c35",
   "metadata": {},
   "outputs": [],
   "source": []
  }
 ],
 "metadata": {
  "kernelspec": {
   "display_name": "Python 3",
   "language": "python",
   "name": "python3"
  },
  "language_info": {
   "codemirror_mode": {
    "name": "ipython",
    "version": 3
   },
   "file_extension": ".py",
   "mimetype": "text/x-python",
   "name": "python",
   "nbconvert_exporter": "python",
   "pygments_lexer": "ipython3",
   "version": "3.8.8"
  }
 },
 "nbformat": 4,
 "nbformat_minor": 5
}
