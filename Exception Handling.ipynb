{
 "cells": [
  {
   "cell_type": "markdown",
   "id": "31f9f9cd-f7c5-431a-90a9-2a23917d2f0d",
   "metadata": {},
   "source": [
    "### Exception Handling using Python"
   ]
  },
  {
   "cell_type": "code",
   "execution_count": 2,
   "id": "9baf6a6a-05cd-4a3e-9944-905323affafe",
   "metadata": {},
   "outputs": [
    {
     "name": "stdin",
     "output_type": "stream",
     "text": [
      "Please enter the first number:  100\n",
      "Please enter the second number:  400\n"
     ]
    },
    {
     "name": "stdout",
     "output_type": "stream",
     "text": [
      "So the result is 500\n",
      "End of the program...\n"
     ]
    }
   ],
   "source": [
    "num1 = int(input(\"Please enter the first number: \"))\n",
    "num2 = int(input(\"Please enter the second number: \"))\n",
    "result = num1 + num2\n",
    "print (\"So the result is\", result)\n",
    "print (\"End of the program...\")"
   ]
  },
  {
   "cell_type": "code",
   "execution_count": 17,
   "id": "fb12c0fa-b209-4fe6-818e-f6501d09d969",
   "metadata": {},
   "outputs": [
    {
     "name": "stdout",
     "output_type": "stream",
     "text": [
      "So 100 + 400 = 500\n",
      "So 100 + 400 = 500\n",
      "So 100 + 400 = 500\n",
      "So 100 + 400 = 500\n",
      "So 100 + 400 = 500\n",
      "So 100 + 400 = 500\n",
      "So 100 + 400 = 500\n",
      "So 100 + 400 = 500\n",
      "So 100 + 400 = 500.000000\n",
      "So 100 + 400 =   500.00\n",
      "So 100 + 400 = 500\n"
     ]
    }
   ],
   "source": [
    "print (\"So\", num1, \"+\", num2, \"=\", result)\n",
    "print (\"So \" + str(num1) + \" + \" + str(num2) + \" = \" + str(result))\n",
    "print (\"So {} + {} = {}\".format(num1, num2, result))   # here {} means statement place holder\n",
    "print (\"So {0} + {1} = {2}\".format(num1, num2, result))   # indexed place holder\n",
    "print (\"So {2} + {1} = {0}\".format(result, num2, num1))   # indexed place holder\n",
    "print (\"So {fnum} + {snum} = {tot}\".format(fnum=num1, snum=num2, tot=result))   # indexed place holder\n",
    "print (\"So {fnum} + {snum} = {tot}\".format(tot=result, snum=num2, fnum=num1))   # indexed place holder\n",
    "print (\"So %d + %d = %d\"%(num1, num2, result))\n",
    "print (\"So %d + %d = %f\"%(num1, num2, result))\n",
    "print (\"So %d + %d = %8.2f\"%(num1, num2, result))\n",
    "print (f\"So {num1} + {num2} = {result}\")   # smart formatting"
   ]
  },
  {
   "cell_type": "code",
   "execution_count": null,
   "id": "cfb682e2-8d25-4b96-9f78-b33b6e00c3ef",
   "metadata": {},
   "outputs": [],
   "source": []
  },
  {
   "cell_type": "code",
   "execution_count": null,
   "id": "d7a7bc38-f22a-4597-8b4a-36cd5644127c",
   "metadata": {},
   "outputs": [],
   "source": []
  },
  {
   "cell_type": "code",
   "execution_count": null,
   "id": "8a076660-81f6-496c-910c-e3a4ee880b9c",
   "metadata": {},
   "outputs": [],
   "source": []
  },
  {
   "cell_type": "code",
   "execution_count": null,
   "id": "1ee8ea34-03f6-45b6-aaa0-f551fb864338",
   "metadata": {},
   "outputs": [],
   "source": []
  },
  {
   "cell_type": "code",
   "execution_count": null,
   "id": "96a19a96-71f4-411c-8ae1-f48c74954578",
   "metadata": {},
   "outputs": [],
   "source": []
  }
 ],
 "metadata": {
  "kernelspec": {
   "display_name": "Python 3",
   "language": "python",
   "name": "python3"
  },
  "language_info": {
   "codemirror_mode": {
    "name": "ipython",
    "version": 3
   },
   "file_extension": ".py",
   "mimetype": "text/x-python",
   "name": "python",
   "nbconvert_exporter": "python",
   "pygments_lexer": "ipython3",
   "version": "3.8.8"
  }
 },
 "nbformat": 4,
 "nbformat_minor": 5
}
