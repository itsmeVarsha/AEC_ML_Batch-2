{
 "cells": [
  {
   "cell_type": "markdown",
   "id": "31f9f9cd-f7c5-431a-90a9-2a23917d2f0d",
   "metadata": {},
   "source": [
    "### Exception Handling using Python"
   ]
  },
  {
   "cell_type": "code",
   "execution_count": 2,
   "id": "9baf6a6a-05cd-4a3e-9944-905323affafe",
   "metadata": {},
   "outputs": [
    {
     "name": "stdin",
     "output_type": "stream",
     "text": [
      "Please enter the first number:  100\n",
      "Please enter the second number:  400\n"
     ]
    },
    {
     "name": "stdout",
     "output_type": "stream",
     "text": [
      "So the result is 500\n",
      "End of the program...\n"
     ]
    }
   ],
   "source": [
    "num1 = int(input(\"Please enter the first number: \"))\n",
    "num2 = int(input(\"Please enter the second number: \"))\n",
    "result = num1 + num2\n",
    "print (\"So the result is\", result)\n",
    "print (\"End of the program...\")"
   ]
  },
  {
   "cell_type": "code",
   "execution_count": 17,
   "id": "fb12c0fa-b209-4fe6-818e-f6501d09d969",
   "metadata": {},
   "outputs": [
    {
     "name": "stdout",
     "output_type": "stream",
     "text": [
      "So 100 + 400 = 500\n",
      "So 100 + 400 = 500\n",
      "So 100 + 400 = 500\n",
      "So 100 + 400 = 500\n",
      "So 100 + 400 = 500\n",
      "So 100 + 400 = 500\n",
      "So 100 + 400 = 500\n",
      "So 100 + 400 = 500\n",
      "So 100 + 400 = 500.000000\n",
      "So 100 + 400 =   500.00\n",
      "So 100 + 400 = 500\n"
     ]
    }
   ],
   "source": [
    "print (\"So\", num1, \"+\", num2, \"=\", result)\n",
    "print (\"So \" + str(num1) + \" + \" + str(num2) + \" = \" + str(result))\n",
    "print (\"So {} + {} = {}\".format(num1, num2, result))   # here {} means statement place holder\n",
    "print (\"So {0} + {1} = {2}\".format(num1, num2, result))   # indexed place holder\n",
    "print (\"So {2} + {1} = {0}\".format(result, num2, num1))   # indexed place holder\n",
    "print (\"So {fnum} + {snum} = {tot}\".format(fnum=num1, snum=num2, tot=result))   # indexed place holder\n",
    "print (\"So {fnum} + {snum} = {tot}\".format(tot=result, snum=num2, fnum=num1))   # indexed place holder\n",
    "print (\"So %d + %d = %d\"%(num1, num2, result))\n",
    "print (\"So %d + %d = %f\"%(num1, num2, result))\n",
    "print (\"So %d + %d = %8.2f\"%(num1, num2, result))\n",
    "print (f\"So {num1} + {num2} = {result}\")   # smart formatting"
   ]
  },
  {
   "cell_type": "code",
   "execution_count": 28,
   "id": "cfb682e2-8d25-4b96-9f78-b33b6e00c3ef",
   "metadata": {},
   "outputs": [
    {
     "name": "stdin",
     "output_type": "stream",
     "text": [
      "Please enter the first number:  100\n",
      "Please enter the second number:  0\n"
     ]
    },
    {
     "ename": "ZeroDivisionError",
     "evalue": "division by zero",
     "output_type": "error",
     "traceback": [
      "\u001b[1;31m---------------------------------------------------------------------------\u001b[0m",
      "\u001b[1;31mZeroDivisionError\u001b[0m                         Traceback (most recent call last)",
      "\u001b[1;32m<ipython-input-28-e224506b63e3>\u001b[0m in \u001b[0;36m<module>\u001b[1;34m\u001b[0m\n\u001b[0;32m      1\u001b[0m \u001b[0mnum1\u001b[0m \u001b[1;33m=\u001b[0m \u001b[0mint\u001b[0m\u001b[1;33m(\u001b[0m\u001b[0minput\u001b[0m\u001b[1;33m(\u001b[0m\u001b[1;34m\"Please enter the first number: \"\u001b[0m\u001b[1;33m)\u001b[0m\u001b[1;33m)\u001b[0m\u001b[1;33m\u001b[0m\u001b[1;33m\u001b[0m\u001b[0m\n\u001b[0;32m      2\u001b[0m \u001b[0mnum2\u001b[0m \u001b[1;33m=\u001b[0m \u001b[0mint\u001b[0m\u001b[1;33m(\u001b[0m\u001b[0minput\u001b[0m\u001b[1;33m(\u001b[0m\u001b[1;34m\"Please enter the second number: \"\u001b[0m\u001b[1;33m)\u001b[0m\u001b[1;33m)\u001b[0m\u001b[1;33m\u001b[0m\u001b[1;33m\u001b[0m\u001b[0m\n\u001b[1;32m----> 3\u001b[1;33m \u001b[0mresult\u001b[0m \u001b[1;33m=\u001b[0m \u001b[0mnum1\u001b[0m \u001b[1;33m/\u001b[0m \u001b[0mnum2\u001b[0m\u001b[1;33m\u001b[0m\u001b[1;33m\u001b[0m\u001b[0m\n\u001b[0m\u001b[0;32m      4\u001b[0m \u001b[0mprint\u001b[0m \u001b[1;33m(\u001b[0m\u001b[1;34m\"So the result is\"\u001b[0m\u001b[1;33m,\u001b[0m \u001b[0mresult\u001b[0m\u001b[1;33m)\u001b[0m\u001b[1;33m\u001b[0m\u001b[1;33m\u001b[0m\u001b[0m\n\u001b[0;32m      5\u001b[0m \u001b[0mprint\u001b[0m \u001b[1;33m(\u001b[0m\u001b[1;34m\"End of the program...\"\u001b[0m\u001b[1;33m)\u001b[0m\u001b[1;33m\u001b[0m\u001b[1;33m\u001b[0m\u001b[0m\n",
      "\u001b[1;31mZeroDivisionError\u001b[0m: division by zero"
     ]
    }
   ],
   "source": [
    "num1 = int(input(\"Please enter the first number: \"))\n",
    "num2 = int(input(\"Please enter the second number: \"))\n",
    "result = num1 / num2\n",
    "print (\"So the result is\", result)\n",
    "print (\"End of the program...\")"
   ]
  },
  {
   "cell_type": "code",
   "execution_count": 23,
   "id": "d7a7bc38-f22a-4597-8b4a-36cd5644127c",
   "metadata": {},
   "outputs": [
    {
     "name": "stdin",
     "output_type": "stream",
     "text": [
      "Please enter the first number:  100\n",
      "Please enter the second number:  two\n"
     ]
    },
    {
     "ename": "ValueError",
     "evalue": "invalid literal for int() with base 10: 'two'",
     "output_type": "error",
     "traceback": [
      "\u001b[1;31m---------------------------------------------------------------------------\u001b[0m",
      "\u001b[1;31mValueError\u001b[0m                                Traceback (most recent call last)",
      "\u001b[1;32m<ipython-input-23-40630803ed51>\u001b[0m in \u001b[0;36m<module>\u001b[1;34m\u001b[0m\n\u001b[0;32m      1\u001b[0m \u001b[1;32mtry\u001b[0m\u001b[1;33m:\u001b[0m\u001b[1;33m\u001b[0m\u001b[1;33m\u001b[0m\u001b[0m\n\u001b[0;32m      2\u001b[0m     \u001b[0mnum1\u001b[0m \u001b[1;33m=\u001b[0m \u001b[0mint\u001b[0m\u001b[1;33m(\u001b[0m\u001b[0minput\u001b[0m\u001b[1;33m(\u001b[0m\u001b[1;34m\"Please enter the first number: \"\u001b[0m\u001b[1;33m)\u001b[0m\u001b[1;33m)\u001b[0m\u001b[1;33m\u001b[0m\u001b[1;33m\u001b[0m\u001b[0m\n\u001b[1;32m----> 3\u001b[1;33m     \u001b[0mnum2\u001b[0m \u001b[1;33m=\u001b[0m \u001b[0mint\u001b[0m\u001b[1;33m(\u001b[0m\u001b[0minput\u001b[0m\u001b[1;33m(\u001b[0m\u001b[1;34m\"Please enter the second number: \"\u001b[0m\u001b[1;33m)\u001b[0m\u001b[1;33m)\u001b[0m\u001b[1;33m\u001b[0m\u001b[1;33m\u001b[0m\u001b[0m\n\u001b[0m\u001b[0;32m      4\u001b[0m     \u001b[0mresult\u001b[0m \u001b[1;33m=\u001b[0m \u001b[0mnum1\u001b[0m \u001b[1;33m/\u001b[0m \u001b[0mnum2\u001b[0m\u001b[1;33m\u001b[0m\u001b[1;33m\u001b[0m\u001b[0m\n\u001b[0;32m      5\u001b[0m     \u001b[0mprint\u001b[0m \u001b[1;33m(\u001b[0m\u001b[1;34m\"So the result is\"\u001b[0m\u001b[1;33m,\u001b[0m \u001b[0mresult\u001b[0m\u001b[1;33m)\u001b[0m\u001b[1;33m\u001b[0m\u001b[1;33m\u001b[0m\u001b[0m\n",
      "\u001b[1;31mValueError\u001b[0m: invalid literal for int() with base 10: 'two'"
     ]
    }
   ],
   "source": [
    "try:\n",
    "    num1 = int(input(\"Please enter the first number: \"))\n",
    "    num2 = int(input(\"Please enter the second number: \"))\n",
    "    result = num1 / num2\n",
    "    print (\"So the result is\", result)\n",
    "except ZeroDivisionError as zde:\n",
    "    print (\"ZeroDivisionError: Division by ZERO is Illegal...!!!\")\n",
    "    print (\"ZeroDivisionError: Error type:\", type(zde))\n",
    "    print (\"ZeroDivisionError: Error message:\", zde)\n",
    "    print (\"ZeroDivisionError: Error message:\", zde.__str__())\n",
    "print (\"End of the program...\")"
   ]
  },
  {
   "cell_type": "code",
   "execution_count": 34,
   "id": "8a076660-81f6-496c-910c-e3a4ee880b9c",
   "metadata": {},
   "outputs": [
    {
     "name": "stdin",
     "output_type": "stream",
     "text": [
      "Please enter the first number:  100\n",
      "Please enter the second number:  two\n"
     ]
    },
    {
     "name": "stdout",
     "output_type": "stream",
     "text": [
      "ValueError: Enter integer values only...\n",
      "ValueError: Error type: <class 'ValueError'>\n",
      "ValueError: Error message: invalid literal for int() with base 10: 'two'\n",
      "End of the program...\n"
     ]
    }
   ],
   "source": [
    "try:\n",
    "    num1 = int(input(\"Please enter the first number: \"))\n",
    "    num2 = int(input(\"Please enter the second number: \"))\n",
    "    result = num1 / num2\n",
    "    print (\"So the result is\", result)\n",
    "except ValueError as ve:\n",
    "    print (\"ValueError: Enter integer values only...\")\n",
    "    print (\"ValueError: Error type:\", type(ve))\n",
    "    print (\"ValueError: Error message:\", ve)\n",
    "except ZeroDivisionError as zde:\n",
    "    print (\"ZeroDivisionError: Division by ZERO is Illegal...!!!\")\n",
    "    print (\"ZeroDivisionError: Error type:\", type(zde))\n",
    "    print (\"ZeroDivisionError: Error message:\", zde)\n",
    "    print (\"ZeroDivisionError: Error message:\", zde.__str__())\n",
    "except Exception as ex:\n",
    "    print (\"Exception: Other exception has occurred...!!!\")\n",
    "    print (\"Exception: Error type:\", type(ex))\n",
    "    print (\"Exception: Error message:\", ex)    \n",
    "print (\"End of the program...\")"
   ]
  },
  {
   "cell_type": "code",
   "execution_count": 42,
   "id": "1ee8ea34-03f6-45b6-aaa0-f551fb864338",
   "metadata": {},
   "outputs": [
    {
     "name": "stdin",
     "output_type": "stream",
     "text": [
      "Please enter the first number:  100\n",
      "Please enter the second number:  2.5\n"
     ]
    },
    {
     "name": "stdout",
     "output_type": "stream",
     "text": [
      "ValueError: Enter integer values only...\n",
      "ValueError: Error type: <class 'ValueError'>\n",
      "ValueError: Error message: invalid literal for int() with base 10: '2.5'\n",
      "Finally: Finally block is executing...\n",
      "Finally: Finally block executes always...\n",
      "End of the program...\n"
     ]
    }
   ],
   "source": [
    "try:\n",
    "    num1 = int(input(\"Please enter the first number: \"))\n",
    "    num2 = int(input(\"Please enter the second number: \"))\n",
    "    result = num1 / num2\n",
    "    print (\"So the result is\", result)\n",
    "except ValueError as ve:\n",
    "    print (\"ValueError: Enter integer values only...\")\n",
    "    print (\"ValueError: Error type:\", type(ve))\n",
    "    print (\"ValueError: Error message:\", ve)\n",
    "except ZeroDivisionError as zde:\n",
    "    print (\"ZeroDivisionError: Division by ZERO is Illegal...!!!\")\n",
    "    print (\"ZeroDivisionError: Error type:\", type(zde))\n",
    "    print (\"ZeroDivisionError: Error message:\", zde)\n",
    "except Exception as ex:\n",
    "    print (\"Exception: Other exception has occurred...!!!\")\n",
    "    print (\"Exception: Error type:\", type(ex))\n",
    "    print (\"Exception: Error message:\", ex)\n",
    "else:\n",
    "    print (\"Else: Else block is executing...\")\n",
    "    print (\"Else: Had a smooth execution...\")\n",
    "finally:\n",
    "    print (\"Finally: Finally block is executing...\")\n",
    "    print (\"Finally: Finally block executes always...\")\n",
    "print (\"End of the program...\")"
   ]
  },
  {
   "cell_type": "code",
   "execution_count": 44,
   "id": "96a19a96-71f4-411c-8ae1-f48c74954578",
   "metadata": {},
   "outputs": [
    {
     "name": "stdin",
     "output_type": "stream",
     "text": [
      "Please enter the first number (between -100 to +100):  900\n",
      "Please enter the second number (between -100 to +100):  10\n"
     ]
    },
    {
     "name": "stdout",
     "output_type": "stream",
     "text": [
      "NameError: Input number is out of range...\n",
      "NameError: Input number is above +100\n",
      "NameError: Please input integer number between -100 to +100...\n",
      "Finally: Finally block is executing...\n",
      "Finally: Finally block executes always...\n",
      "End of the program...\n"
     ]
    }
   ],
   "source": [
    "try:\n",
    "    num1 = int(input(\"Please enter the first number (between -100 to +100): \"))\n",
    "    num2 = int(input(\"Please enter the second number (between -100 to +100): \"))\n",
    "    if (num1 < -100 or num2 < -100):\n",
    "        raise NameError(\"Below-100\")\n",
    "    if (num1 > 100 or num2 > 100):\n",
    "        raise NameError(\"Above+100\")\n",
    "    result = num1 / num2\n",
    "    print (\"So the result is\", result)\n",
    "except ValueError as ve:\n",
    "    print (\"ValueError: Enter integer values only...\")\n",
    "    print (\"ValueError: Error type:\", type(ve))\n",
    "    print (\"ValueError: Error message:\", ve)\n",
    "except ZeroDivisionError as zde:\n",
    "    print (\"ZeroDivisionError: Division by ZERO is Illegal...!!!\")\n",
    "    print (\"ZeroDivisionError: Error type:\", type(zde))\n",
    "    print (\"ZeroDivisionError: Error message:\", zde)\n",
    "except NameError as ne:\n",
    "    print (\"NameError: Input number is out of range...\")\n",
    "    if (str(ne) == \"Below-100\"): print (\"NameError: Input number is below -100\")\n",
    "    if (str(ne) == \"Above+100\"): print (\"NameError: Input number is above +100\")\n",
    "    print (\"NameError: Please input integer number between -100 to +100...\")\n",
    "except Exception as ex:\n",
    "    print (\"Exception: Other exception has occurred...!!!\")\n",
    "    print (\"Exception: Error type:\", type(ex))\n",
    "    print (\"Exception: Error message:\", ex)\n",
    "else:\n",
    "    print (\"Else: Else block is executing...\")\n",
    "    print (\"Else: Had a smooth execution...\")\n",
    "finally:\n",
    "    print (\"Finally: Finally block is executing...\")\n",
    "    print (\"Finally: Finally block executes always...\")\n",
    "print (\"End of the program...\")"
   ]
  },
  {
   "cell_type": "code",
   "execution_count": null,
   "id": "20b8181d-6844-4214-b58a-e44f059e9b96",
   "metadata": {},
   "outputs": [],
   "source": []
  },
  {
   "cell_type": "code",
   "execution_count": null,
   "id": "7d086d6f-a073-4bee-b182-4eb732cb6829",
   "metadata": {},
   "outputs": [],
   "source": []
  },
  {
   "cell_type": "code",
   "execution_count": null,
   "id": "17382bbf-fe6f-4ef9-8e22-083811bcb70d",
   "metadata": {},
   "outputs": [],
   "source": []
  },
  {
   "cell_type": "code",
   "execution_count": null,
   "id": "46e3c1f7-5953-4e2c-8fae-0f49714a1237",
   "metadata": {},
   "outputs": [],
   "source": []
  },
  {
   "cell_type": "code",
   "execution_count": null,
   "id": "5ade7004-1cfa-4449-a41d-32ec4be624d5",
   "metadata": {},
   "outputs": [],
   "source": []
  }
 ],
 "metadata": {
  "kernelspec": {
   "display_name": "Python 3",
   "language": "python",
   "name": "python3"
  },
  "language_info": {
   "codemirror_mode": {
    "name": "ipython",
    "version": 3
   },
   "file_extension": ".py",
   "mimetype": "text/x-python",
   "name": "python",
   "nbconvert_exporter": "python",
   "pygments_lexer": "ipython3",
   "version": "3.8.8"
  }
 },
 "nbformat": 4,
 "nbformat_minor": 5
}
